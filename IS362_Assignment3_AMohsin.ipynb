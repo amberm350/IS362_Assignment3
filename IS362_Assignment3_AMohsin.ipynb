{
 "cells": [
  {
   "cell_type": "code",
   "execution_count": 20,
   "id": "f3d8023c",
   "metadata": {},
   "outputs": [
    {
     "name": "stdout",
     "output_type": "stream",
     "text": [
      "The total miles for each day is: 55\n",
      "The total miles for each day is: 120\n",
      "The total miles for each day is: 180\n",
      "The total miles for each day is: 240\n",
      "The total miles for each day is: 300\n",
      "The total miles for each day is: 360\n",
      "The total miles for each day is: 420\n",
      "The total miles for each day is: 480\n",
      "The total miles for each day is: 540\n",
      "The total miles for each day is: 600\n",
      "The total miles for each day is: 660\n",
      "The total miles for each day is: 720\n",
      "The total miles for each day is: 780\n",
      "The total miles for each day is: 850\n",
      "The total miles for each day is: 920\n",
      "The total miles for each day is: 990\n",
      "The total miles for each day is: 1060\n",
      "The total miles for each day is: 1130\n",
      "The total miles for each day is: 1200\n",
      "The total miles for each day is: 1270\n",
      "The total miles for each day is: 1340\n",
      "The total miles for each day is: 1410\n",
      "The total miles for each day is: 1480\n"
     ]
    }
   ],
   "source": [
    "import pandas as pd\n",
    "import numpy as np\n",
    "\n",
    "totalmiles = np.array([55, 120, 180, 240, 300, 360, 420, 480, 540, 600, \n",
    "                       660, 720, 780, 850, 920, 990, 1060, 1130, 1200, 1270, 1340, 1410, 1480])\n",
    "\n",
    "for x in totalmiles:\n",
    "    print (f\"The total miles for each day is: {x}\")\n"
   ]
  },
  {
   "cell_type": "code",
   "execution_count": null,
   "id": "0fcb3c3d",
   "metadata": {},
   "outputs": [],
   "source": []
  }
 ],
 "metadata": {
  "kernelspec": {
   "display_name": "Python 3 (ipykernel)",
   "language": "python",
   "name": "python3"
  },
  "language_info": {
   "codemirror_mode": {
    "name": "ipython",
    "version": 3
   },
   "file_extension": ".py",
   "mimetype": "text/x-python",
   "name": "python",
   "nbconvert_exporter": "python",
   "pygments_lexer": "ipython3",
   "version": "3.9.12"
  }
 },
 "nbformat": 4,
 "nbformat_minor": 5
}
